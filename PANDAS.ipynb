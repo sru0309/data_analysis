{
 "cells": [
  {
   "cell_type": "code",
   "execution_count": 2,
   "id": "2fb5c09d",
   "metadata": {},
   "outputs": [],
   "source": [
    "import pandas as pd "
   ]
  },
  {
   "cell_type": "code",
   "execution_count": 6,
   "id": "1aa2981e",
   "metadata": {},
   "outputs": [
    {
     "name": "stdout",
     "output_type": "stream",
     "text": [
      "      name  age\n",
      "0  srushti   23\n",
      "1    niraj   25\n",
      "2   nikita   22\n",
      "3    soham   21\n"
     ]
    }
   ],
   "source": [
    "mydataset = {\n",
    "    \"name\" : [\"srushti\",\"niraj\",\"nikita\",\"soham\"],\n",
    "    'age': [23,25,22,21]\n",
    "}\n",
    "myvar = pd.DataFrame(mydataset)\n",
    "print(myvar)"
   ]
  },
  {
   "cell_type": "code",
   "execution_count": 8,
   "id": "3c7e0085",
   "metadata": {},
   "outputs": [
    {
     "name": "stdout",
     "output_type": "stream",
     "text": [
      "1.4.2\n"
     ]
    }
   ],
   "source": [
    "print(pd.__version__)"
   ]
  },
  {
   "cell_type": "code",
   "execution_count": 10,
   "id": "a0c8034f",
   "metadata": {},
   "outputs": [
    {
     "name": "stdout",
     "output_type": "stream",
     "text": [
      "Series([], dtype: float64)\n"
     ]
    },
    {
     "name": "stderr",
     "output_type": "stream",
     "text": [
      "C:\\Users\\BAPS\\AppData\\Local\\Temp\\ipykernel_14192\\3252700383.py:1: FutureWarning: The default dtype for empty Series will be 'object' instead of 'float64' in a future version. Specify a dtype explicitly to silence this warning.\n",
      "  ser = pd.Series()\n"
     ]
    }
   ],
   "source": [
    "ser = pd.Series()\n",
    "print(ser)"
   ]
  },
  {
   "cell_type": "code",
   "execution_count": 11,
   "id": "68418bab",
   "metadata": {},
   "outputs": [],
   "source": [
    "import pandas as pd \n",
    "import numpy as np"
   ]
  },
  {
   "cell_type": "code",
   "execution_count": 12,
   "id": "4ceefc0e",
   "metadata": {},
   "outputs": [
    {
     "name": "stdout",
     "output_type": "stream",
     "text": [
      "0    d\n",
      "1    g\n",
      "2    h\n",
      "3    j\n",
      "4    g\n",
      "dtype: object\n"
     ]
    }
   ],
   "source": [
    "data = np.array(['d','g','h','j','g'])\n",
    "ser = pd.Series(data)\n",
    "print(ser)"
   ]
  },
  {
   "cell_type": "code",
   "execution_count": 14,
   "id": "c36578cf",
   "metadata": {},
   "outputs": [
    {
     "name": "stdout",
     "output_type": "stream",
     "text": [
      "0    d\n",
      "1    g\n",
      "2    h\n",
      "3    j\n",
      "4    g\n",
      "dtype: object\n"
     ]
    }
   ],
   "source": [
    "data = ['d','g','h','j','g']\n",
    "ser = pd.Series(data)\n",
    "print(ser)"
   ]
  },
  {
   "cell_type": "code",
   "execution_count": 22,
   "id": "341789f6",
   "metadata": {},
   "outputs": [
    {
     "name": "stdout",
     "output_type": "stream",
     "text": [
      "   w\n",
      "0  d\n",
      "1  g\n",
      "2  h\n",
      "3  j\n",
      "4  g\n"
     ]
    }
   ],
   "source": [
    "data = {\"w\": ['d','g','h','j','g']}\n",
    "ser = pd.DataFrame(data)\n",
    "print(ser)"
   ]
  },
  {
   "cell_type": "code",
   "execution_count": 23,
   "id": "043f3d9f",
   "metadata": {},
   "outputs": [
    {
     "name": "stdout",
     "output_type": "stream",
     "text": [
      "    w\n",
      "10  d\n",
      "11  g\n",
      "12  h\n",
      "13  j\n",
      "14  g\n"
     ]
    }
   ],
   "source": [
    "data = {\"w\": ['d','g','h','j','g']}\n",
    "\n",
    "ser = pd.DataFrame(data,index = [10,11,12,13,14])\n",
    "\n",
    "print(ser)"
   ]
  },
  {
   "cell_type": "code",
   "execution_count": 25,
   "id": "3d26632b",
   "metadata": {},
   "outputs": [
    {
     "name": "stdout",
     "output_type": "stream",
     "text": [
      "1    10\n",
      "2    10\n",
      "3    10\n",
      "4    10\n",
      "5    10\n",
      "6    10\n",
      "7    10\n",
      "8    10\n",
      "dtype: int64\n"
     ]
    }
   ],
   "source": [
    "hi = pd.Series(10,index = [1,2,3,4,5,6,7,8])\n",
    "print(hi)"
   ]
  },
  {
   "cell_type": "code",
   "execution_count": 27,
   "id": "548f75ff",
   "metadata": {},
   "outputs": [
    {
     "name": "stdout",
     "output_type": "stream",
     "text": [
      "0     3.0\n",
      "1    23.5\n",
      "2    44.0\n",
      "dtype: float64\n"
     ]
    }
   ],
   "source": [
    "ser1 = pd.Series(np.linspace(3, 44, 3))\n",
    "print(ser1)"
   ]
  },
  {
   "cell_type": "code",
   "execution_count": 33,
   "id": "a49bfb0b",
   "metadata": {},
   "outputs": [
    {
     "name": "stdout",
     "output_type": "stream",
     "text": [
      "0      0\n",
      "1      1\n",
      "2      2\n",
      "3      3\n",
      "4      4\n",
      "5      5\n",
      "6      6\n",
      "7      7\n",
      "8      8\n",
      "9      9\n",
      "10    10\n",
      "11    11\n",
      "12    12\n",
      "13    13\n",
      "14    14\n",
      "15    15\n",
      "16    16\n",
      "17    17\n",
      "18    18\n",
      "19    19\n",
      "dtype: int64\n"
     ]
    }
   ],
   "source": [
    "import pandas as pd\n",
    "import numpy as np\n",
    "\n",
    "ser1 = pd.Series(range(20))\n",
    "print(ser1)"
   ]
  },
  {
   "cell_type": "code",
   "execution_count": 36,
   "id": "e9d61154",
   "metadata": {},
   "outputs": [
    {
     "name": "stdout",
     "output_type": "stream",
     "text": [
      "a     1\n",
      "b     4\n",
      "c     7\n",
      "d    10\n",
      "e    13\n",
      "f    16\n",
      "g    19\n",
      "dtype: int64\n"
     ]
    }
   ],
   "source": [
    "ser = pd.Series(range(1,20,3),index = [x for x in 'abcdefg'])\n",
    "print(ser)"
   ]
  },
  {
   "cell_type": "code",
   "execution_count": 38,
   "id": "832d32d8",
   "metadata": {},
   "outputs": [
    {
     "name": "stdout",
     "output_type": "stream",
     "text": [
      "10    50\n",
      "11    55\n",
      "12    60\n",
      "13    65\n",
      "14    70\n",
      "15    75\n",
      "16    80\n",
      "17    85\n",
      "18    90\n",
      "19    95\n",
      "dtype: int32\n"
     ]
    }
   ],
   "source": [
    "import pandas as pd\n",
    "import numpy as np\n",
    "ser = np.arange(10,20)\n",
    "serobj =pd.Series(data=ser*5,index=ser)\n",
    "print(serobj)"
   ]
  },
  {
   "cell_type": "code",
   "execution_count": 40,
   "id": "177270e6",
   "metadata": {},
   "outputs": [
    {
     "name": "stdout",
     "output_type": "stream",
     "text": [
      "0    12\n",
      "1    14\n",
      "2    16\n",
      "0    11\n",
      "1    13\n",
      "2    15\n",
      "dtype: int64\n"
     ]
    },
    {
     "name": "stderr",
     "output_type": "stream",
     "text": [
      "C:\\Users\\BAPS\\AppData\\Local\\Temp\\ipykernel_14192\\2739125077.py:5: FutureWarning: The series.append method is deprecated and will be removed from pandas in a future version. Use pandas.concat instead.\n",
      "  series_3 =series_1.append(series_2)\n"
     ]
    }
   ],
   "source": [
    "import pandas as pd\n",
    "import numpy as np\n",
    "series_1 =pd.Series([12,14,16])\n",
    "series_2 =pd.Series([11,13,15])\n",
    "series_3 =series_1.append(series_2)\n",
    "print(series_3)"
   ]
  },
  {
   "cell_type": "code",
   "execution_count": 41,
   "id": "00a09a9c",
   "metadata": {},
   "outputs": [
    {
     "name": "stdout",
     "output_type": "stream",
     "text": [
      "0    12\n",
      "1    14\n",
      "2    16\n",
      "0    11\n",
      "1    13\n",
      "2    15\n",
      "dtype: int64\n"
     ]
    },
    {
     "name": "stderr",
     "output_type": "stream",
     "text": [
      "C:\\Users\\BAPS\\AppData\\Local\\Temp\\ipykernel_14192\\310218887.py:3: FutureWarning: The series.append method is deprecated and will be removed from pandas in a future version. Use pandas.concat instead.\n",
      "  series_1 =series_1.append(series_2)\n"
     ]
    }
   ],
   "source": [
    "series_1 =pd.Series([12,14,16])\n",
    "series_2 =pd.Series([11,13,15])\n",
    "series_1 =series_1.append(series_2)\n",
    "print(series_1)"
   ]
  },
  {
   "cell_type": "code",
   "execution_count": 43,
   "id": "2ba5a847",
   "metadata": {},
   "outputs": [
    {
     "name": "stdout",
     "output_type": "stream",
     "text": [
      "0    12\n",
      "1    14\n",
      "2    16\n",
      "3    11\n",
      "4    13\n",
      "5    15\n",
      "dtype: int64\n"
     ]
    },
    {
     "name": "stderr",
     "output_type": "stream",
     "text": [
      "C:\\Users\\BAPS\\AppData\\Local\\Temp\\ipykernel_14192\\2421103975.py:3: FutureWarning: The series.append method is deprecated and will be removed from pandas in a future version. Use pandas.concat instead.\n",
      "  series_3 =series_1.append(series_2,ignore_index = True)\n"
     ]
    }
   ],
   "source": [
    "series_1 =pd.Series([12,14,16])\n",
    "series_2 =pd.Series([11,13,15])\n",
    "series_3 =series_1.append(series_2,ignore_index = True)\n",
    "print(series_3)"
   ]
  },
  {
   "cell_type": "code",
   "execution_count": 47,
   "id": "5c21112f",
   "metadata": {},
   "outputs": [
    {
     "name": "stdout",
     "output_type": "stream",
     "text": [
      "0    12\n",
      "1    14\n",
      "2    16\n",
      "0    11\n",
      "1    13\n",
      "2    15\n",
      "dtype: int64\n"
     ]
    }
   ],
   "source": [
    "series_1 =pd.Series([12,14,16])\n",
    "series_2 =pd.Series([11,13,15])\n",
    "series_3 =pd.concat([series_1,series_2],axis=0)\n",
    "print(series_3)"
   ]
  },
  {
   "cell_type": "code",
   "execution_count": 48,
   "id": "72ec09bf",
   "metadata": {},
   "outputs": [
    {
     "name": "stdout",
     "output_type": "stream",
     "text": [
      "0    12\n",
      "1    14\n",
      "2    16\n",
      "3    11\n",
      "4    13\n",
      "5    15\n",
      "dtype: int64\n"
     ]
    }
   ],
   "source": [
    "series_1 =pd.Series([12,14,16])\n",
    "series_2 =pd.Series([11,13,15])\n",
    "series_3 =pd.concat([series_1,series_2],ignore_index = True)\n",
    "print(series_3)"
   ]
  },
  {
   "cell_type": "code",
   "execution_count": 49,
   "id": "642a3c98",
   "metadata": {},
   "outputs": [
    {
     "name": "stdout",
     "output_type": "stream",
     "text": [
      "    0   1\n",
      "0  12  11\n",
      "1  14  13\n",
      "2  16  15\n"
     ]
    }
   ],
   "source": [
    "series_1 =pd.Series([12,14,16])\n",
    "series_2 =pd.Series([11,13,15])\n",
    "series_3 =pd.concat([series_1,series_2],axis=1)\n",
    "print(series_3)"
   ]
  },
  {
   "cell_type": "code",
   "execution_count": 53,
   "id": "89041476",
   "metadata": {},
   "outputs": [
    {
     "name": "stdout",
     "output_type": "stream",
     "text": [
      "    0   1   2\n",
      "0  12  11  18\n",
      "1  14  13  19\n",
      "2  16  15  20\n"
     ]
    }
   ],
   "source": [
    "series_1 =pd.Series([12,14,16])\n",
    "series_2 =pd.Series([11,13,15])\n",
    "series_3 =pd.Series([18,19,20])\n",
    "series_\n",
    "series_4 =pd.concat([series_1,series_2,series_3],axis=1)\n",
    "print(series_4)"
   ]
  },
  {
   "cell_type": "code",
   "execution_count": 2,
   "id": "6afbad6f",
   "metadata": {},
   "outputs": [],
   "source": [
    "import pandas as pd\n",
    "import numpy as np\n"
   ]
  },
  {
   "cell_type": "code",
   "execution_count": 6,
   "id": "5f8ac272",
   "metadata": {},
   "outputs": [
    {
     "name": "stdout",
     "output_type": "stream",
     "text": [
      "      name qualification  Age    address\n",
      "0  srushti           bsc   21    jalgoan\n",
      "1    niraj        bpharm   23    shirpur\n",
      "2   nikita           msc   24    jalgoan\n",
      "3    soham    enginering   21  ahemdabad\n"
     ]
    }
   ],
   "source": [
    "data = {'name':[\"srushti\",\"niraj\",\"nikita\",\"soham\"],\n",
    "       'qualification':[\"bsc\",\"bpharm\",\"msc\",\"enginering\"]}\n",
    "df = pd.DataFrame(data)\n",
    "address =[\"jalgoan\",\"shirpur\",\"jalgoan\",\"ahemdabad\"]\n",
    "df[\"address\"]=address\n",
    "df.insert(2, \"Age\", [21, 23, 24, 21], True)\n",
    "print(df)"
   ]
  },
  {
   "cell_type": "code",
   "execution_count": null,
   "id": "96cd5ba0",
   "metadata": {},
   "outputs": [],
   "source": []
  },
  {
   "cell_type": "code",
   "execution_count": null,
   "id": "4dd8905a",
   "metadata": {},
   "outputs": [],
   "source": []
  }
 ],
 "metadata": {
  "kernelspec": {
   "display_name": "Python 3 (ipykernel)",
   "language": "python",
   "name": "python3"
  },
  "language_info": {
   "codemirror_mode": {
    "name": "ipython",
    "version": 3
   },
   "file_extension": ".py",
   "mimetype": "text/x-python",
   "name": "python",
   "nbconvert_exporter": "python",
   "pygments_lexer": "ipython3",
   "version": "3.9.12"
  }
 },
 "nbformat": 4,
 "nbformat_minor": 5
}
